{
 "cells": [
  {
   "cell_type": "markdown",
   "metadata": {},
   "source": [
    "# Obtain the data"
   ]
  },
  {
   "cell_type": "code",
   "execution_count": 432,
   "metadata": {},
   "outputs": [
    {
     "name": "stdout",
     "output_type": "stream",
     "text": [
      "NOTE! Please run the cells in order, lots of variables are reused and reassigned. Values may wary based on order of execution.\n"
     ]
    }
   ],
   "source": [
    "#Run this code block, Don't change anything\n",
    "from sklearn import datasets\n",
    "from sklearn.model_selection import train_test_split\n",
    "from sklearn.metrics import mean_absolute_error, mean_squared_error\n",
    "from sklearn.metrics import r2_score\n",
    "\n",
    "import numpy as np\n",
    "import pandas as pd \n",
    "import seaborn as sns\n",
    "import matplotlib.pyplot as plt\n",
    "\n",
    "cal = datasets.fetch_california_housing()\n",
    "X = cal.data\n",
    "y = cal.target\n",
    "X_train, X_test, y_train, y_test = train_test_split(X,y,test_size=0.2,random_state=0)\n",
    "y_bool_train = [i > 1.8 for i in y_train]\n",
    "y_bool_test = [i > 1.8 for i in y_test]\n",
    "\n",
    "print(\"NOTE! Please run the cells in order, lots of variables are reused and reassigned. Values may wary based on order of execution.\")"
   ]
  },
  {
   "cell_type": "markdown",
   "metadata": {},
   "source": [
    "# Q1"
   ]
  },
  {
   "cell_type": "markdown",
   "metadata": {},
   "source": [
    "### Q1a."
   ]
  },
  {
   "cell_type": "markdown",
   "metadata": {},
   "source": [
    "#### Your code"
   ]
  },
  {
   "cell_type": "code",
   "execution_count": 433,
   "metadata": {},
   "outputs": [
    {
     "name": "stdout",
     "output_type": "stream",
     "text": [
      "Fitting 5 folds for each of 30 candidates, totalling 150 fits\n",
      "Top 5 results based on the gridsearch:\n",
      "\n",
      "     mean_fit_time  std_fit_time  mean_score_time  std_score_time  \\\n",
      "28      13.321992      0.080406         0.043624        0.025154   \n",
      "27      10.395087      0.150640         0.025706        0.002930   \n",
      "22      12.703906      0.083156         0.034053        0.001696   \n",
      "29      13.715162      0.909250         0.037243        0.000655   \n",
      "21      10.092182      0.040122         0.024983        0.001360   \n",
      "\n",
      "   param_learning_rate param_max_depth  \\\n",
      "28                0.05               9   \n",
      "27                0.05               7   \n",
      "22                0.04               9   \n",
      "29                0.05              11   \n",
      "21                0.04               7   \n",
      "\n",
      "                                      params  split0_test_score  \\\n",
      "28   {'learning_rate': 0.05, 'max_depth': 9}           0.814435   \n",
      "27   {'learning_rate': 0.05, 'max_depth': 7}           0.813678   \n",
      "22   {'learning_rate': 0.04, 'max_depth': 9}           0.806598   \n",
      "29  {'learning_rate': 0.05, 'max_depth': 11}           0.798741   \n",
      "21   {'learning_rate': 0.04, 'max_depth': 7}           0.807349   \n",
      "\n",
      "    split1_test_score  split2_test_score  split3_test_score  \\\n",
      "28           0.827439           0.814268           0.829936   \n",
      "27           0.823640           0.811583           0.823856   \n",
      "22           0.822627           0.809828           0.822911   \n",
      "29           0.812630           0.802472           0.824071   \n",
      "21           0.816710           0.805907           0.815679   \n",
      "\n",
      "    split4_test_score  mean_test_score  std_test_score  rank_test_score  \n",
      "28           0.828183         0.822852        0.006988                1  \n",
      "27           0.817761         0.818104        0.005019                2  \n",
      "22           0.821773         0.816748        0.007053                3  \n",
      "29           0.818813         0.811345        0.009560                4  \n",
      "21           0.809821         0.811093        0.004362                5  \n"
     ]
    }
   ],
   "source": [
    "# !pip install xgboost\n",
    "\n",
    "from sklearn.pipeline import Pipeline\n",
    "from sklearn import svm\n",
    "from sklearn.ensemble import GradientBoostingRegressor\n",
    "from sklearn import metrics\n",
    "from sklearn.model_selection import KFold, cross_val_score, train_test_split\n",
    "from sklearn.model_selection import GridSearchCV\n",
    "from sklearn.metrics import r2_score\n",
    "\n",
    "# model = GradientBoostingClassifier(random_state=0)\n",
    "\n",
    "X_train_gb = X_train\n",
    "Y_train_gb = y_train\n",
    "\n",
    "param_distributions = {\n",
    "    \"learning_rate\": [0.01, 0.02, 0.03, 0.04, 0.05],\n",
    "    \"max_depth\": [1,3,5,7,9,11]\n",
    "}\n",
    "grid_search_val = GridSearchCV(\n",
    "    GradientBoostingRegressor(), param_distributions, verbose=1, n_jobs=-1, cv=5\n",
    ")\n",
    "grid_search_val.fit(X_train_gb, Y_train_gb) \n",
    "# grid_search_val.fit(X_train,y_train) \n",
    "grid_search_val.best_params_\n",
    "grid_search_val.best_estimator_ \n",
    "\n",
    "cv_results = pd.DataFrame(grid_search_val.cv_results_)\n",
    "print(\"Top 5 results based on the gridsearch:\\n\\n\", cv_results.nlargest(5, \"mean_test_score\"))"
   ]
  },
  {
   "cell_type": "markdown",
   "metadata": {},
   "source": [
    "#### conclusion"
   ]
  },
  {
   "cell_type": "code",
   "execution_count": 434,
   "metadata": {},
   "outputs": [
    {
     "name": "stdout",
     "output_type": "stream",
     "text": [
      "Q1a. Conclusion:\n",
      "\n",
      "Best parameters based on the grid search\n",
      "  {'learning_rate': 0.05, 'max_depth': 9}\n",
      "\n",
      "Best estimator/classifier from the grid search\n",
      "  GradientBoostingRegressor(learning_rate=0.05, max_depth=9)\n",
      "\n",
      "Determination coefficient(r2) score on test set is 0.7885693134153988 \n",
      "\n"
     ]
    }
   ],
   "source": [
    "print('Q1a. Conclusion:')\n",
    "print('\\nBest parameters based on the grid search')\n",
    "print(' ', grid_search_val.best_params_)\n",
    "print('\\nBest estimator/classifier from the grid search')\n",
    "print(' ', grid_search_val.best_estimator_) \n",
    "\n",
    "predictions = grid_search_val.best_estimator_.predict(X_test) \n",
    "\n",
    "print('\\nDetermination coefficient(r2) score on test set is {} '.format(r2_score(predictions, y_test))) \n",
    "\n",
    "print()\n",
    "# grid_search_val.get_params"
   ]
  },
  {
   "cell_type": "markdown",
   "metadata": {},
   "source": [
    "### Q1b."
   ]
  },
  {
   "cell_type": "markdown",
   "metadata": {},
   "source": [
    "#### plot"
   ]
  },
  {
   "cell_type": "code",
   "execution_count": 435,
   "metadata": {},
   "outputs": [
    {
     "name": "stdout",
     "output_type": "stream",
     "text": [
      "   mean_fit_time  std_fit_time  mean_score_time  std_score_time  \\\n",
      "0       2.070876      0.279791         0.005747        0.001099   \n",
      "1       5.454230      0.030458         0.011555        0.000895   \n",
      "2       7.789216      0.076201         0.017231        0.000218   \n",
      "3      10.298696      0.046296         0.025480        0.000503   \n",
      "4      12.646030      0.056151         0.035078        0.001189   \n",
      "\n",
      "  param_learning_rate param_max_depth  \\\n",
      "0                0.01               1   \n",
      "1                0.01               3   \n",
      "2                0.01               5   \n",
      "3                0.01               7   \n",
      "4                0.01               9   \n",
      "\n",
      "                                    params  split0_test_score  \\\n",
      "0  {'learning_rate': 0.01, 'max_depth': 1}           0.332965   \n",
      "1  {'learning_rate': 0.01, 'max_depth': 3}           0.514781   \n",
      "2  {'learning_rate': 0.01, 'max_depth': 5}           0.594032   \n",
      "3  {'learning_rate': 0.01, 'max_depth': 7}           0.634171   \n",
      "4  {'learning_rate': 0.01, 'max_depth': 9}           0.663675   \n",
      "\n",
      "   split1_test_score  split2_test_score  split3_test_score  split4_test_score  \\\n",
      "0           0.328395           0.320404           0.321414           0.330878   \n",
      "1           0.509878           0.505845           0.503742           0.506388   \n",
      "2           0.590182           0.587920           0.589642           0.585653   \n",
      "3           0.638841           0.633413           0.639417           0.633717   \n",
      "4           0.669288           0.659667           0.668325           0.664897   \n",
      "\n",
      "   mean_test_score  std_test_score  rank_test_score  \n",
      "0         0.326811        0.005042               30  \n",
      "1         0.508127        0.003868               27  \n",
      "2         0.589486        0.002769               24  \n",
      "3         0.635912        0.002644               22  \n",
      "4         0.665170        0.003450               21  \n",
      "\n",
      "Selecting values mean_test_score, param_learning_rate and param_max_depth from the grid search results.\n"
     ]
    }
   ],
   "source": [
    "cv_results = pd.DataFrame(grid_search_val.cv_results_)\n",
    "print(cv_results.head())\n",
    "\n",
    "print()\n",
    "print(\"Selecting values mean_test_score, param_learning_rate and param_max_depth from the grid search results.\")\n",
    "r2_score_list = cv_results['mean_test_score']\n",
    "learning_rate_plot = cv_results['param_learning_rate']\n",
    "depth_row_plot = cv_results['param_max_depth']"
   ]
  },
  {
   "cell_type": "markdown",
   "metadata": {},
   "source": [
    "#### conclusion"
   ]
  },
  {
   "cell_type": "code",
   "execution_count": 436,
   "metadata": {},
   "outputs": [
    {
     "data": {
      "image/png": "[encoded data removed]",
      "text/plain": [
       "<Figure size 432x288 with 1 Axes>"
      ]
     },
     "metadata": {
      "needs_background": "light"
     },
     "output_type": "display_data"
    },
    {
     "name": "stdout",
     "output_type": "stream",
     "text": [
      "Q1b. conclusion:\n",
      "From the graph, we can see that initially increasing value of depth and learning rate shows massive improvement in the performance, but after a certaing value the gains plateau, we only see minimal improvements with increasing depth and learning_rate. Finally, we see a decline in performance post a certain limit showing that there is a balance of both depth and learning rate that is necessary to be maintained, and infinitely increasing values doesnt work and even results in decline of performance.\n"
     ]
    }
   ],
   "source": [
    "plt.plot(depth_row_plot[0:6], r2_score_list[0:6], label=\"0.01\")\n",
    "plt.plot(depth_row_plot[6:12], r2_score_list[6:12], label=\"0.02\")\n",
    "plt.plot(depth_row_plot[12:18], r2_score_list[12:18], label=\"0.03\")\n",
    "plt.plot(depth_row_plot[18:24], r2_score_list[18:24], label=\"0.04\")\n",
    "plt.plot(depth_row_plot[24:30], r2_score_list[24:30], label=\"0.05\")\n",
    "plt.legend()\n",
    "plt.xlabel(\"Depth\")\n",
    "plt.ylabel(\"r2 score\")\n",
    "plt.show()\n",
    "print('Q1b. conclusion:')\n",
    "print('From the graph, we can see that initially increasing value of depth and learning rate shows massive improvement in the performance, but after a certaing value the gains plateau, we only see minimal improvements with increasing depth and learning_rate. Finally, we see a decline in performance post a certain limit showing that there is a balance of both depth and learning rate that is necessary to be maintained, and infinitely increasing values doesnt work and even results in decline of performance.')"
   ]
  },
  {
   "cell_type": "markdown",
   "metadata": {},
   "source": [
    "### Q1c."
   ]
  },
  {
   "cell_type": "code",
   "execution_count": 437,
   "metadata": {},
   "outputs": [
    {
     "name": "stdout",
     "output_type": "stream",
     "text": [
      "Q1c) \n",
      "\n",
      "Methods to further improve performance\n",
      "\n",
      "a) Feature selection and scaling: Thinning the number of values that positively affect and are correlated to the overall price. Once selected, we standardize the value ranges to improve the performance further.\n",
      "\n",
      "b) Boosting algorithms: Sequentially training multiple models to increase accuracy is a better way to move forward.\n",
      "\n",
      "c) Further Hyperparameter Tuning: Trying different loss functions, subsampling values to increase or reduce bias and variance, different criterion etc.\n",
      "\n",
      "d) Number of trees: Finding the right amount trees prevent overfitting and underfitting values.\n"
     ]
    }
   ],
   "source": [
    "print('Q1c) \\n')\n",
    "print('Methods to further improve performance')\n",
    "print('\\na) Feature selection and scaling: Thinning the number of values that positively affect and are correlated to the overall price. Once selected, we standardize the value ranges to improve the performance further.')\n",
    "print('\\nb) Boosting algorithms: Sequentially training multiple models to increase accuracy is a better way to move forward.')\n",
    "print('\\nc) Further Hyperparameter Tuning: Trying different loss functions, subsampling values to increase or reduce bias and variance, different criterion etc.')\n",
    "print('\\nd) Number of trees: Finding the right amount trees prevent overfitting and underfitting values.')"
   ]
  },
  {
   "cell_type": "markdown",
   "metadata": {},
   "source": [
    "# Q2."
   ]
  },
  {
   "cell_type": "markdown",
   "metadata": {},
   "source": [
    "### Q2a."
   ]
  },
  {
   "cell_type": "markdown",
   "metadata": {},
   "source": [
    "#### your code"
   ]
  },
  {
   "cell_type": "code",
   "execution_count": 438,
   "metadata": {},
   "outputs": [
    {
     "name": "stdout",
     "output_type": "stream",
     "text": [
      "Models used here are:\n",
      "-  LogisticRegression(solver='liblinear')\n",
      "-  DecisionTreeClassifier()\n",
      "-  KNeighborsClassifier()\n"
     ]
    }
   ],
   "source": [
    "from sklearn.linear_model import LogisticRegression\n",
    "from sklearn.tree import DecisionTreeClassifier\n",
    "from sklearn.model_selection import KFold, StratifiedKFold, cross_val_score\n",
    "from sklearn.linear_model import LogisticRegressionCV\n",
    "from sklearn.neighbors import KNeighborsClassifier\n",
    "\n",
    "print(\"Models used here are:\")\n",
    "logit = LogisticRegression(solver='liblinear')\n",
    "print(\"- \", logit)\n",
    "logit.fit(X_train, y_bool_train)\n",
    "# predicted = cross_validation.cross_val_predict(logit, X_train, y_bool_train, cv=10)\n",
    "logit_score = cross_val_score(logit, X_train, y_bool_train, cv=5, scoring='f1')\n",
    "\n",
    "dTree = DecisionTreeClassifier()\n",
    "print(\"- \", dTree)\n",
    "dTree_score = cross_val_score(dTree, X_train, y_bool_train, cv=5, scoring='f1')\n",
    "\n",
    "knn = KNeighborsClassifier()\n",
    "print(\"- \", knn)\n",
    "knn_score = cross_val_score(dTree, X_train, y_bool_train, cv=5, scoring='f1')\n",
    "# print(metrics.classification_report(y_train, score))"
   ]
  },
  {
   "cell_type": "markdown",
   "metadata": {},
   "source": [
    "#### conclusion"
   ]
  },
  {
   "cell_type": "code",
   "execution_count": 439,
   "metadata": {},
   "outputs": [
    {
     "name": "stdout",
     "output_type": "stream",
     "text": [
      "Q2a. conclusion:\n",
      "\n",
      "Logistic regression cross validation score\n",
      "0.8059569251928537\n",
      "\n",
      "\n",
      "DecisionTreeClassifier cross validation score\n",
      "0.8359640774510414\n",
      "\n",
      "\n",
      "KNeighborsClassifier cross validation score\n",
      "0.8371371947370714\n"
     ]
    }
   ],
   "source": [
    "print('Q2a. conclusion:')\n",
    "\n",
    "print(\"\\nLogistic regression cross validation score\")\n",
    "print(logit_score.mean())\n",
    "print()\n",
    "\n",
    "print(\"\\nDecisionTreeClassifier cross validation score\")\n",
    "print(dTree_score.mean())\n",
    "print()\n",
    "\n",
    "print(\"\\nKNeighborsClassifier cross validation score\")\n",
    "print(knn_score.mean())"
   ]
  },
  {
   "cell_type": "markdown",
   "metadata": {},
   "source": [
    "### Q2b."
   ]
  },
  {
   "cell_type": "markdown",
   "metadata": {},
   "source": [
    "#### your code"
   ]
  },
  {
   "cell_type": "code",
   "execution_count": 440,
   "metadata": {},
   "outputs": [
    {
     "name": "stdout",
     "output_type": "stream",
     "text": [
      "Out of all the tunable parameters in the decision trees. I narrowed down to 4 parameters for the following reasons:\n",
      "\n",
      " - Criterion: This decides which criteria to consider while considering a split to a more specific subset, Gini and entropy were the main two contenders here, so added them to the grid search. \n",
      "\n",
      " - Depth: Since each split of the data can have further sub split, this kind of bifuracation helps decision trees to fit data better but this is again only to a certain extent, further increase results in overfitting and reduction in accuracy. \n",
      "\n",
      " - Min Sample split: The minimum number of samples for a particular node so that it can be split. This parameter helps regularizing the tree. \n",
      "\n",
      " - Min Sample leaf: The minimum number of samples for a node to be considered a leaf node, Helps limit the tree growth. \n",
      "\n",
      "\n",
      "Fitting 5 folds for each of 640 candidates, totalling 3200 fits\n"
     ]
    }
   ],
   "source": [
    "# dTree = DecisionTreeClassifier(max_depth=12, criterion=\"entropy\", min_samples_split=4, min_samples_leaf=12)\n",
    "# score = cross_val_score(dTree, X_train, y_bool_train, cv=5)\n",
    "# print(\"DecisionTreeClassifier cross validation score \\n\", score.mean())\n",
    "# dTree.fit(X_train, y_bool_train) \n",
    "# y_pred = dTree.predict(X_test)\n",
    "# print('DecisionTreeClassifier f1 score \\n', f1_score(y_bool_test, y_pred))\n",
    "\n",
    "dTree = DecisionTreeClassifier()\n",
    "# Tried log loss criterion but ran into an error.\n",
    "param_distributions = {\n",
    "    \"criterion\": ['gini', 'entropy'],\n",
    "    \"max_depth\": [7, 8, 9, 10, 11, 12, 13, 14],\n",
    "    \"min_samples_split\": [3, 4, 5, 6, 7],\n",
    "    \"min_samples_leaf\": [7, 8, 9, 10, 11, 12, 13, 14]\n",
    "}\n",
    "\n",
    "print(\"Out of all the tunable parameters in the decision trees. I narrowed down to 4 parameters for the following reasons:\\n\")\n",
    "print(\" - Criterion: This decides which criteria to consider while considering a split to a more specific subset, Gini and entropy were the main two contenders here, so added them to the grid search. \\n\")\n",
    "print(\" - Depth: Since each split of the data can have further sub split, this kind of bifuracation helps decision trees to fit data better but this is again only to a certain extent, further increase results in overfitting and reduction in accuracy. \\n\")\n",
    "print(\" - Min Sample split: The minimum number of samples for a particular node so that it can be split. This parameter helps regularizing the tree. \\n\")\n",
    "print(\" - Min Sample leaf: The minimum number of samples for a node to be considered a leaf node, Helps limit the tree growth. \\n\")\n",
    "print()\n",
    "\n",
    "grid_search_val = GridSearchCV(dTree, param_distributions, verbose=1, n_jobs=-1, cv=5)\n",
    "\n",
    "grid_search_val.fit(X_train, y_bool_train) \n",
    "\n",
    "y_pred = grid_search_val.best_estimator_.predict(X_test)\n"
   ]
  },
  {
   "cell_type": "markdown",
   "metadata": {},
   "source": [
    "#### report final model"
   ]
  },
  {
   "cell_type": "code",
   "execution_count": 441,
   "metadata": {},
   "outputs": [
    {
     "name": "stdout",
     "output_type": "stream",
     "text": [
      "Top 5 results based on the gridsearch:\n",
      "\n",
      "      mean_fit_time  std_fit_time  mean_score_time  std_score_time  \\\n",
      "543       0.185027      0.001706         0.002548        0.000449   \n",
      "507       0.179250      0.002690         0.002140        0.000400   \n",
      "539       0.184471      0.002891         0.002340        0.000395   \n",
      "536       0.184683      0.002091         0.002794        0.000458   \n",
      "535       0.187264      0.004783         0.002616        0.000085   \n",
      "\n",
      "    param_criterion param_max_depth param_min_samples_leaf  \\\n",
      "543         entropy              12                     11   \n",
      "507         entropy              11                     12   \n",
      "539         entropy              12                     10   \n",
      "536         entropy              12                     10   \n",
      "535         entropy              12                     10   \n",
      "\n",
      "    param_min_samples_split  \\\n",
      "543                       6   \n",
      "507                       5   \n",
      "539                       7   \n",
      "536                       4   \n",
      "535                       3   \n",
      "\n",
      "                                                params  split0_test_score  \\\n",
      "543  {'criterion': 'entropy', 'max_depth': 12, 'min...           0.867393   \n",
      "507  {'criterion': 'entropy', 'max_depth': 11, 'min...           0.865274   \n",
      "539  {'criterion': 'entropy', 'max_depth': 12, 'min...           0.869815   \n",
      "536  {'criterion': 'entropy', 'max_depth': 12, 'min...           0.867696   \n",
      "535  {'criterion': 'entropy', 'max_depth': 12, 'min...           0.868907   \n",
      "\n",
      "     split1_test_score  split2_test_score  split3_test_score  \\\n",
      "543           0.864366           0.861296           0.854331   \n",
      "507           0.867393           0.857359           0.854936   \n",
      "539           0.867393           0.856451           0.854634   \n",
      "536           0.866485           0.857359           0.855542   \n",
      "535           0.866788           0.857359           0.854634   \n",
      "\n",
      "     split4_test_score  mean_test_score  std_test_score  rank_test_score  \n",
      "543           0.864930         0.862463        0.004506                1  \n",
      "507           0.867050         0.862403        0.005214                2  \n",
      "539           0.863719         0.862402        0.005956                3  \n",
      "536           0.864022         0.862221        0.004892                4  \n",
      "535           0.863113         0.862160        0.005432                5  \n",
      "\n",
      "Q2b. Final model:\n",
      "\n",
      "Best parameters based on the grid search\n",
      "  {'criterion': 'entropy', 'max_depth': 12, 'min_samples_leaf': 11, 'min_samples_split': 6}\n",
      "\n",
      "Best estimator/classifier from the grid search\n",
      "  DecisionTreeClassifier(criterion='entropy', max_depth=12, min_samples_leaf=11,\n",
      "                       min_samples_split=6)\n",
      "VotingClassifier cross validation f1 score \n",
      " 0.8619197864466356\n",
      "\n",
      "VotingClassifier test data classification score\n",
      " 0.8638565891472868\n",
      "\n",
      "VotingClassifier test f1 score \n",
      " 0.8608910891089109\n"
     ]
    }
   ],
   "source": [
    "cv_results = pd.DataFrame(grid_search_val.cv_results_)\n",
    "\n",
    "print(\"Top 5 results based on the gridsearch:\\n\\n\", cv_results.nlargest(5,\"mean_test_score\"))\n",
    "\n",
    "print('\\nQ2b. Final model:')\n",
    "print('\\nBest parameters based on the grid search')\n",
    "print(' ', grid_search_val.best_params_)\n",
    "print('\\nBest estimator/classifier from the grid search')\n",
    "print(' ', grid_search_val.best_estimator_) \n",
    "\n",
    "dtree_score = cross_val_score(grid_search_val.best_estimator_, X_train, y_bool_train, cv=5, scoring='f1')\n",
    "print('VotingClassifier cross validation f1 score \\n', dtree_score.mean())\n",
    "print()\n",
    "print('VotingClassifier test data classification score\\n', accuracy_score(y_bool_test, y_pred))\n",
    "print()\n",
    "print('VotingClassifier test f1 score \\n', f1_score(y_bool_test, y_pred))"
   ]
  },
  {
   "cell_type": "markdown",
   "metadata": {},
   "source": [
    "# Q3."
   ]
  },
  {
   "cell_type": "markdown",
   "metadata": {},
   "source": [
    "### Q3a."
   ]
  },
  {
   "cell_type": "markdown",
   "metadata": {},
   "source": [
    "#### your code"
   ]
  },
  {
   "cell_type": "code",
   "execution_count": 461,
   "metadata": {},
   "outputs": [],
   "source": [
    "from sklearn.ensemble import VotingClassifier, BaggingClassifier\n",
    "\n",
    "estimator = [\n",
    "('DTree1' , DecisionTreeClassifier(max_depth=12, criterion=\"entropy\", min_samples_split=3, min_samples_leaf=11, max_features='sqrt')),\n",
    "('DTree2' , DecisionTreeClassifier(max_depth=12, criterion=\"entropy\", min_samples_split=3, min_samples_leaf=11, max_features='sqrt')),\n",
    "('DTree3' , DecisionTreeClassifier(max_depth=12, criterion=\"entropy\", min_samples_split=3, min_samples_leaf=11, max_features='sqrt')),\n",
    "('DTree4' , DecisionTreeClassifier(max_depth=12, criterion=\"entropy\", min_samples_split=3, min_samples_leaf=11, max_features='sqrt')),\n",
    "('DTree5' , DecisionTreeClassifier(max_depth=12, criterion=\"entropy\", min_samples_split=3, min_samples_leaf=11, max_features='sqrt')),\n",
    "('DTree6' , DecisionTreeClassifier(max_depth=12, criterion=\"entropy\", min_samples_split=3, min_samples_leaf=11, max_features='sqrt')),\n",
    "('DTree7' , DecisionTreeClassifier(max_depth=12, criterion=\"entropy\", min_samples_split=3, min_samples_leaf=11, max_features='sqrt')),\n",
    "('DTree8' , DecisionTreeClassifier(max_depth=12, criterion=\"entropy\", min_samples_split=3, min_samples_leaf=11, max_features='sqrt')),\n",
    "('DTree9' , DecisionTreeClassifier(max_depth=12, criterion=\"entropy\", min_samples_split=3, min_samples_leaf=11, max_features='sqrt')),\n",
    "('DTree10' , DecisionTreeClassifier(max_depth=12, criterion=\"entropy\", min_samples_split=3, min_samples_leaf=11, max_features='sqrt')),\n",
    "('DTree11' , DecisionTreeClassifier(max_depth=12, criterion=\"entropy\", min_samples_split=3, min_samples_leaf=11, max_features='sqrt')),\n",
    "]\n",
    "\n",
    "eclf = VotingClassifier(estimators=estimator, voting='soft')\n",
    "score = cross_val_score(eclf, X_train, y_bool_train, cv=5, scoring='f1')\n",
    "eclf.fit(X_train, y_bool_train)\n",
    "y_pred = eclf.predict(X_test)\n",
    "\n",
    "# Vs 0.8628266"
   ]
  },
  {
   "cell_type": "markdown",
   "metadata": {},
   "source": [
    "#### conclusion"
   ]
  },
  {
   "cell_type": "code",
   "execution_count": 462,
   "metadata": {},
   "outputs": [
    {
     "name": "stdout",
     "output_type": "stream",
     "text": [
      "Q3a. conclusion:\n",
      "VotingClassifier f1 cross validation score \n",
      " 0.878062028556642\n",
      "VotingClassifier classification \n",
      " 0.8670058139534884\n",
      "VotingClassifier f1 score \n",
      " 0.8652760736196319\n",
      "\n",
      "Voting Classifier overall performs slightly better with a f1 score of 0.876 compared to 0.8619 in only Dtree classifier. Changing the voting to hard does improve it a bit but not by too much. Additionally since the voting process is more democratised there are less chances for outlier to influence the decision of a voting classifier compared to D tree.In general, ensemble models combine multiple base models to improve the predicting performance\n"
     ]
    }
   ],
   "source": [
    "print('Q3a. conclusion:')\n",
    "\n",
    "print('VotingClassifier f1 cross validation score \\n', score.mean())\n",
    "print('VotingClassifier classification \\n', accuracy_score(y_bool_test, y_pred))\n",
    "print('VotingClassifier f1 score \\n', f1_score(y_bool_test, y_pred))\n",
    "\n",
    "print('\\nVoting Classifier overall performs slightly better with a f1 score of 0.876 compared to 0.8619 in only Dtree classifier. Changing the voting to hard does improve it a bit but not by too much. Additionally since the voting process is more democratised there are less chances for outlier to influence the decision of a voting classifier compared to D tree.In general, ensemble models combine multiple base models to improve the predicting performance')"
   ]
  },
  {
   "cell_type": "markdown",
   "metadata": {},
   "source": [
    "### Q3b."
   ]
  },
  {
   "cell_type": "markdown",
   "metadata": {},
   "source": [
    "#### your code"
   ]
  },
  {
   "cell_type": "code",
   "execution_count": 463,
   "metadata": {},
   "outputs": [],
   "source": [
    "model = KNeighborsClassifier()\n",
    "\n",
    "# Comment the below 2 lines after the first run.\n",
    "for idx in range(0, 11, 1):\n",
    "    estimator.append(('KNN'+ str(idx),  model))\n",
    "    \n",
    "eclfNew = VotingClassifier(estimators=estimator, voting='soft')\n",
    "score = cross_val_score(eclfNew, X_train, y_bool_train, cv=5, scoring='f1')\n",
    "eclf.fit(X_train, y_bool_train)\n",
    "y_pred = eclf.predict(X_test)\n",
    "# Vs 0.8628266"
   ]
  },
  {
   "cell_type": "markdown",
   "metadata": {},
   "source": [
    "#### conclusion"
   ]
  },
  {
   "cell_type": "code",
   "execution_count": 465,
   "metadata": {},
   "outputs": [
    {
     "name": "stdout",
     "output_type": "stream",
     "text": [
      "Q3b. conclusion:\n",
      "VotingClassifier f1 cross validation score \n",
      " 0.8261171056369274\n",
      "VotingClassifier classification \n",
      " 0.8403585271317829\n",
      "VotingClassifier f1 score \n",
      " 0.8367599702749566\n",
      "\n",
      "Decision trees build a classification model based on the training set and arent the best at learning an unforeseen observation, as compared to KNN which models well to test data on the spot, because of this the two models performance on the dataset would vary quite a bit and their collective voting would skew the results. Additionally, decision trees are known to prune data points that are rare occurrences compared to KNN which would handle them better, this would also result in a more skewed voting result. Finally, based on this observation its ideal to not combine models that work differently in a counterproductive way\n"
     ]
    }
   ],
   "source": [
    "print('Q3b. conclusion:')\n",
    "\n",
    "print('VotingClassifier f1 cross validation score \\n', score.mean())\n",
    "\n",
    "print('VotingClassifier classification \\n', accuracy_score(y_bool_test, y_pred))\n",
    "print('VotingClassifier f1 score \\n', f1_score(y_bool_test, y_pred))\n",
    "print()\n",
    "\n",
    "print('Decision trees build a classification model based on the training set and arent the best at learning an unforeseen observation, as compared to KNN which models well to test data on the spot, because of this the two models performance on the dataset would vary quite a bit and their collective voting would skew the results. Additionally, decision trees are known to prune data points that are rare occurrences compared to KNN which would handle them better, this would also result in a more skewed voting result. Finally, based on this observation its ideal to not combine models that work differently in a counterproductive way')"
   ]
  },
  {
   "cell_type": "markdown",
   "metadata": {},
   "source": [
    "### Q3c."
   ]
  },
  {
   "cell_type": "markdown",
   "metadata": {},
   "source": [
    "#### your code"
   ]
  },
  {
   "cell_type": "code",
   "execution_count": 466,
   "metadata": {},
   "outputs": [
    {
     "name": "stdout",
     "output_type": "stream",
     "text": [
      "Fitting 5 folds for each of 9 candidates, totalling 45 fits\n"
     ]
    }
   ],
   "source": [
    "from sklearn.metrics import accuracy_score, f1_score\n",
    "\n",
    "bagging = BaggingClassifier(DecisionTreeClassifier(max_depth=12, criterion=\"entropy\", min_samples_split=3, min_samples_leaf=11))\n",
    "param_distributions = {\n",
    "    \"max_features\": [0.1, 0.2, 0.3, 0.4, 0.5, 0.6, 0.7, 0.8, 0.9],\n",
    "}\n",
    "\n",
    "grid_search_val = GridSearchCV(bagging, param_distributions, verbose=1, n_jobs=-1, cv=5)\n",
    "\n",
    "grid_search_val.fit(X_train, y_bool_train) \n",
    "\n",
    "y_pred = grid_search_val.best_estimator_.predict(X_test)\n"
   ]
  },
  {
   "cell_type": "markdown",
   "metadata": {},
   "source": [
    "#### report best model and performance on testing data"
   ]
  },
  {
   "cell_type": "code",
   "execution_count": 467,
   "metadata": {},
   "outputs": [
    {
     "name": "stdout",
     "output_type": "stream",
     "text": [
      "Q3c.\n",
      "Best parameters based on the grid search {'max_features': 0.7}\n",
      "Best Estimator model based on the grid search BaggingClassifier(base_estimator=DecisionTreeClassifier(criterion='entropy',\n",
      "                                                        max_depth=12,\n",
      "                                                        min_samples_leaf=11,\n",
      "                                                        min_samples_split=3),\n",
      "                  max_features=0.7)\n",
      "\n",
      "BaggingClassifier test classification \n",
      " 0.9045542635658915\n",
      "BaggingClassifier test f1 score \n",
      " 0.9030988686669945\n"
     ]
    }
   ],
   "source": [
    "print('Q3c.')\n",
    "\n",
    "print('Best parameters based on the grid search', grid_search_val.best_params_)\n",
    "print('Best Estimator model based on the grid search', grid_search_val.best_estimator_) \n",
    "\n",
    "print()\n",
    "print('BaggingClassifier test classification \\n', accuracy_score(y_bool_test, y_pred))\n",
    "print('BaggingClassifier test f1 score \\n', f1_score(y_bool_test, y_pred))"
   ]
  },
  {
   "cell_type": "markdown",
   "metadata": {},
   "source": [
    "### Q3d."
   ]
  },
  {
   "cell_type": "markdown",
   "metadata": {},
   "source": [
    "#### your code"
   ]
  },
  {
   "cell_type": "code",
   "execution_count": 468,
   "metadata": {},
   "outputs": [],
   "source": [
    "from sklearn.ensemble import RandomForestClassifier, ExtraTreesClassifier, AdaBoostClassifier, GradientBoostingClassifier, HistGradientBoostingClassifier\n",
    "\n",
    "eclf_new_ada = AdaBoostClassifier()\n",
    "score_ada = cross_val_score(eclf_new_ada, X_train, y_bool_train, cv=5, scoring='f1')\n",
    "eclf_new_ada.fit(X_train, y_bool_train)\n",
    "y_pred_ada = eclf_new_ada.predict(X_test)\n",
    "\n",
    "eclf_new_GBC = GradientBoostingClassifier()\n",
    "score_GBC = cross_val_score(eclf_new_GBC, X_train, y_bool_train, cv=5, scoring='f1')\n",
    "\n",
    "eclf_new_GBC.fit(X_train, y_bool_train)\n",
    "y_pred_GBC = eclf_new_GBC.predict(X_test)\n",
    "\n",
    "eclf_new_RFC = RandomForestClassifier()\n",
    "score_RFC = cross_val_score(eclf_new_RFC, X_train, y_bool_train, cv=5, scoring='f1')\n",
    "eclf_new_RFC.fit(X_train, y_bool_train)\n",
    "y_pred_RFC = eclf_new_RFC.predict(X_test)\n",
    "\n",
    "eclf_new_ETC = ExtraTreesClassifier()\n",
    "score_ETC = cross_val_score(eclf_new_ETC, X_train, y_bool_train, cv=5, scoring='f1')\n",
    "eclf_new_ETC.fit(X_train, y_bool_train)\n",
    "y_pred_ETC = eclf_new_ETC.predict(X_test)\n",
    "\n",
    "eclf_new_hist = HistGradientBoostingClassifier()\n",
    "score_hist = cross_val_score(eclf_new_hist, X_train, y_bool_train, cv=5, scoring='f1')\n",
    "eclf_new_hist.fit(X_train, y_bool_train)\n",
    "y_pred_hist = eclf_new_hist.predict(X_test)"
   ]
  },
  {
   "cell_type": "markdown",
   "metadata": {},
   "source": [
    "#### report result"
   ]
  },
  {
   "cell_type": "code",
   "execution_count": 430,
   "metadata": {},
   "outputs": [
    {
     "name": "stdout",
     "output_type": "stream",
     "text": [
      "Q3d.\n",
      "AdaBoostClassifier cross validation score\n",
      " 0.861553772431904\n",
      "AdaBoostClassifier test classification \n",
      " 0.8599806201550387\n",
      "AdaBoostClassifier test f1 score \n",
      " 0.8584027437530621\n",
      "\n",
      "GradientBoostingClassifier cross validation score\n",
      " 0.8854707221417456\n",
      "GradientBoostingClassifier test classification \n",
      " 0.8788759689922481\n",
      "GradientBoostingClassifier test f1 score \n",
      " 0.8773908778813142\n",
      "\n",
      "RandomForestClassifier cross validation score\n",
      " 0.8904190793093092\n",
      "RandomForestClassifier test classification \n",
      " 0.8943798449612403\n",
      "RandomForestClassifier test f1 score \n",
      " 0.8920257553244181\n",
      "\n",
      "ExtraTreesClassifier cross validation score\n",
      " 0.8961611021276248\n",
      "ExtraTreesClassifier test classification \n",
      " 0.8980135658914729\n",
      "ExtraTreesClassifier test f1 score \n",
      " 0.8960237095579155\n",
      "\n",
      "HistGradientBoostingClassifier cross validation score\n",
      " 0.9019723105223209\n",
      "HistGradientBoostingClassifier test classification \n",
      " 0.905765503875969\n",
      "HistGradientBoostingClassifier test f1 score \n",
      " 0.9043050430504306\n",
      "Out of all the models, histogram classifier has the best performance on the dataset.\n"
     ]
    }
   ],
   "source": [
    "print('Q3d.')\n",
    "print(\"AdaBoostClassifier cross validation score\\n\", score_ada.mean())\n",
    "print('AdaBoostClassifier test classification \\n', accuracy_score(y_bool_test, y_pred_ada))\n",
    "print('AdaBoostClassifier test f1 score \\n', f1_score(y_bool_test, y_pred_ada))\n",
    "\n",
    "print(\"\\nGradientBoostingClassifier cross validation score\\n\", score_GBC.mean())\n",
    "print('GradientBoostingClassifier test classification \\n', accuracy_score(y_bool_test, y_pred_GBC))\n",
    "print('GradientBoostingClassifier test f1 score \\n', f1_score(y_bool_test, y_pred_GBC))\n",
    "\n",
    "print(\"\\nRandomForestClassifier cross validation score\\n\", score_RFC.mean())\n",
    "print('RandomForestClassifier test classification \\n', accuracy_score(y_bool_test, y_pred_RFC))\n",
    "print('RandomForestClassifier test f1 score \\n', f1_score(y_bool_test, y_pred_RFC))\n",
    "\n",
    "print(\"\\nExtraTreesClassifier cross validation score\\n\", score_ETC.mean())\n",
    "print('ExtraTreesClassifier test classification \\n', accuracy_score(y_bool_test, y_pred_ETC))\n",
    "print('ExtraTreesClassifier test f1 score \\n', f1_score(y_bool_test, y_pred_ETC))\n",
    "\n",
    "print(\"\\nHistGradientBoostingClassifier cross validation score\\n\", score_hist.mean())\n",
    "print('HistGradientBoostingClassifier test classification \\n', accuracy_score(y_bool_test, y_pred_hist))\n",
    "print('HistGradientBoostingClassifier test f1 score \\n', f1_score(y_bool_test, y_pred_hist))\n",
    "\n",
    "print(\"Out of all the models, histogram classifier has the best performance on the dataset.\")"
   ]
  }
 ],
 "metadata": {
  "kernelspec": {
   "display_name": "Python 3 (ipykernel)",
   "language": "python",
   "name": "python3"
  },
  "language_info": {
   "codemirror_mode": {
    "name": "ipython",
    "version": 3
   },
   "file_extension": ".py",
   "mimetype": "text/x-python",
   "name": "python",
   "nbconvert_exporter": "python",
   "pygments_lexer": "ipython3",
   "version": "3.9.12"
  }
 },
 "nbformat": 4,
 "nbformat_minor": 4
}
