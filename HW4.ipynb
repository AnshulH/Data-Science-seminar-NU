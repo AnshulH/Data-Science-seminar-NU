{
 "cells": [
  {
   "cell_type": "code",
   "execution_count": 1,
   "metadata": {},
   "outputs": [
    {
     "name": "stdout",
     "output_type": "stream",
     "text": [
      "Max value in the target column:  2\n"
     ]
    }
   ],
   "source": [
    "from sklearn.datasets import fetch_covtype\n",
    "from sklearn.linear_model import LogisticRegression\n",
    "from sklearn.tree import DecisionTreeClassifier\n",
    "from sklearn.model_selection import train_test_split\n",
    "from sklearn.metrics import roc_auc_score\n",
    "from sklearn.model_selection import KFold, cross_val_score\n",
    "from sklearn.preprocessing import MinMaxScaler\n",
    "from sklearn.random_projection import GaussianRandomProjection\n",
    "from sklearn.preprocessing import StandardScaler\n",
    "from sklearn.decomposition import PCA\n",
    "from sklearn.feature_extraction.text import TfidfVectorizer\n",
    "from sklearn.decomposition import NMF\n",
    "from sklearn.metrics import mean_squared_error\n",
    "import scipy.sparse \n",
    "import numpy as np\n",
    "import pandas as pd\n",
    "import matplotlib.pyplot as plt\n",
    "# Adding the below line to remove unnecessary warnings from the notebook.\n",
    "import warnings\n",
    "warnings.filterwarnings('ignore')\n",
    "\n",
    "X, y = fetch_covtype(return_X_y=True)\n",
    "\n",
    "print('Max value in the target column: ', np.bincount(y).argmax())\n",
    "\n",
    "target = y\n",
    "\n",
    "for x, val in enumerate(y):\n",
    "    if val == 2:\n",
    "        target[x] = 1\n",
    "    else:\n",
    "        target[x] = 0\n",
    "        \n",
    "# print(target[:, 1])\n",
    "\n",
    "# I accidently assumed that we will be using test data as well but since we arent, I just switched the train size to 0.99 so I am using almost all the data.\n",
    "X_train, X_test, y_train, y_test = train_test_split(X, target, train_size=0.99, random_state=8)"
   ]
  },
  {
   "cell_type": "markdown",
   "metadata": {},
   "source": [
    "## Q 1"
   ]
  },
  {
   "cell_type": "code",
   "execution_count": 2,
   "metadata": {},
   "outputs": [],
   "source": [
    "min_max = MinMaxScaler()\n",
    "\n",
    "X_train_minmax = min_max.fit_transform(X_train)\n",
    "X_test_minmax = min_max.fit_transform(X_test)\n",
    "\n",
    "logit = LogisticRegression(solver='saga')\n",
    "\n",
    "# Without scaling\n",
    "logit_score_noscale = cross_val_score(logit, X_train, y_train, cv=3, scoring='roc_auc')\n",
    "\n",
    "# Min max scaling\n",
    "logit_score_minmax = cross_val_score(logit, X_train_minmax, y_train, cv=3, scoring='roc_auc')\n"
   ]
  },
  {
   "cell_type": "code",
   "execution_count": 3,
   "metadata": {},
   "outputs": [
    {
     "name": "stdout",
     "output_type": "stream",
     "text": [
      "Roc Auc score for logistic regression without scaling:  0.6655023957296226\n",
      "Roc Auc score for logistic regression with min max scaling:  0.8272255856749279\n"
     ]
    }
   ],
   "source": [
    "print(\"Roc Auc score for logistic regression without scaling: \", logit_score_noscale.mean())\n",
    "print(\"Roc Auc score for logistic regression with min max scaling: \", logit_score_minmax.mean())"
   ]
  },
  {
   "cell_type": "code",
   "execution_count": 4,
   "metadata": {},
   "outputs": [],
   "source": [
    "dTree = DecisionTreeClassifier()\n",
    "\n",
    "# Without scaling\n",
    "dTree_score_noscale = cross_val_score(dTree, X_train, y_train, cv=3, scoring='roc_auc')\n",
    "\n",
    "# With min max scaling\n",
    "dTree_score_minmax = cross_val_score(dTree, X_train_minmax, y_train, cv=3, scoring='roc_auc')\n"
   ]
  },
  {
   "cell_type": "code",
   "execution_count": 34,
   "metadata": {},
   "outputs": [
    {
     "name": "stdout",
     "output_type": "stream",
     "text": [
      "Roc Auc score for decision tree without scaling:  0.9459344897168993\n",
      "Roc Auc score for decision tree with min max scaling:  0.945902590891491\n"
     ]
    }
   ],
   "source": [
    "print(\"Roc Auc score for decision tree without scaling: \", dTree_score_noscale.mean())\n",
    "print(\"Roc Auc score for decision tree with min max scaling: \", dTree_score_minmax.mean())"
   ]
  },
  {
   "cell_type": "code",
   "execution_count": 33,
   "metadata": {},
   "outputs": [
    {
     "name": "stdout",
     "output_type": "stream",
     "text": [
      "Conclusion\n",
      "\n",
      "Decision trees overall are invariant to scaling primarily for the reason is the way trees work inherently. Trees for boundaries around data points segregating them into different subsets/classes, this points to the idea that as long as we transform all the data the same way(eg. apply log to all the data points etc.) their distances or relative positions on the graph/plane remain the same. Hence, they arent affected by scaling at all.\n"
     ]
    }
   ],
   "source": [
    "print(\"Conclusion\")\n",
    "print(\"\")\n",
    "print(\"Decision trees overall are invariant to scaling primarily for the reason is the way trees work inherently. Trees for boundaries around data points segregating them into different subsets/classes, this points to the idea that as long as we transform all the data the same way(eg. apply log to all the data points etc.) their distances or relative positions on the graph/plane remain the same. Hence, they arent affected by scaling at all.\")\n"
   ]
  },
  {
   "cell_type": "markdown",
   "metadata": {},
   "source": [
    "## Q2"
   ]
  },
  {
   "cell_type": "markdown",
   "metadata": {},
   "source": [
    "#### A"
   ]
  },
  {
   "cell_type": "code",
   "execution_count": 7,
   "metadata": {},
   "outputs": [],
   "source": [
    "def getGRP(dims):\n",
    "    return GaussianRandomProjection(n_components=dims)\n",
    "\n",
    "def getStandardScaler():\n",
    "    return StandardScaler()\n",
    "\n",
    "# Train dataset\n",
    "std_scaler = getStandardScaler()\n",
    "df_s_train = std_scaler.fit_transform(X_train)\n",
    "grp = getGRP(15)\n",
    "X_train_grp = grp.fit_transform(df_s_train)\n",
    "\n",
    "# Test dataset\n",
    "df_s_test = std_scaler.fit_transform(X_test)\n",
    "X_test_grp = grp.fit_transform(df_s_test)\n",
    "\n",
    "logit = LogisticRegression(solver='saga')\n",
    "\n",
    "logit_score_a = cross_val_score(logit, X_train_grp, y_train, cv=3, scoring='roc_auc')"
   ]
  },
  {
   "cell_type": "code",
   "execution_count": 8,
   "metadata": {},
   "outputs": [
    {
     "name": "stdout",
     "output_type": "stream",
     "text": [
      "A) Score:  0.654990285876931\n"
     ]
    }
   ],
   "source": [
    "print(\"A) Score: \", logit_score_a.mean())"
   ]
  },
  {
   "cell_type": "markdown",
   "metadata": {},
   "source": [
    "#### B"
   ]
  },
  {
   "cell_type": "code",
   "execution_count": 9,
   "metadata": {},
   "outputs": [],
   "source": [
    "df_s_train = std_scaler.fit_transform(X_train)\n",
    "grp = getGRP(40)\n",
    "X_train_grp = grp.fit_transform(df_s_train)\n",
    "\n",
    "# Test dataset\n",
    "df_s_test = std_scaler.fit_transform(X_test)\n",
    "X_test_grp = grp.fit_transform(df_s_test)\n",
    "\n",
    "logit = LogisticRegression(solver='saga')\n",
    "\n",
    "logit_score_b = cross_val_score(logit, X_train_grp, y_train, cv=3, scoring='roc_auc')\n",
    "\n",
    "# clf_logit = logit.fit(X_train_grp, y_train)\n",
    "# print(roc_auc_score(y_test, clf_logit.predict(X_test_grp)))"
   ]
  },
  {
   "cell_type": "code",
   "execution_count": 10,
   "metadata": {},
   "outputs": [
    {
     "name": "stdout",
     "output_type": "stream",
     "text": [
      "B) Score:  0.8203214994270521\n"
     ]
    }
   ],
   "source": [
    "print(\"B) Score: \", logit_score_b.mean())"
   ]
  },
  {
   "cell_type": "markdown",
   "metadata": {},
   "source": [
    "#### C"
   ]
  },
  {
   "cell_type": "code",
   "execution_count": 11,
   "metadata": {},
   "outputs": [],
   "source": [
    "pca = PCA()\n",
    "pca.n_components = 10\n",
    "\n",
    "# Scaling then PCA\n",
    "df_s_train = std_scaler.fit_transform(X_train)\n",
    "X_train_pca = pca.fit_transform(df_s_train)\n",
    "# pca_data_with_scikit.shape\n",
    "\n",
    "logit = LogisticRegression(solver='saga')\n",
    "\n",
    "logit_score_c = cross_val_score(logit, X_train_pca, y_train, cv=3, scoring='roc_auc')"
   ]
  },
  {
   "cell_type": "code",
   "execution_count": 12,
   "metadata": {},
   "outputs": [
    {
     "name": "stdout",
     "output_type": "stream",
     "text": [
      "C) Score:  0.7187835321993252\n"
     ]
    }
   ],
   "source": [
    "print(\"C) Score: \", logit_score_c.mean())"
   ]
  },
  {
   "cell_type": "markdown",
   "metadata": {},
   "source": [
    "#### D"
   ]
  },
  {
   "cell_type": "code",
   "execution_count": 13,
   "metadata": {},
   "outputs": [],
   "source": [
    "# PCA then Scaling\n",
    "X_train_pca = pca.fit_transform(X_train)\n",
    "df_s_train = std_scaler.fit_transform(X_train_pca)\n",
    "\n",
    "logit = LogisticRegression(solver='saga')\n",
    "\n",
    "logit_score_d = cross_val_score(logit, df_s_train, y_train, cv=3, scoring='roc_auc')\n"
   ]
  },
  {
   "cell_type": "code",
   "execution_count": null,
   "metadata": {},
   "outputs": [
    {
     "name": "stdout",
     "output_type": "stream",
     "text": [
      "D) Score:  0.6614305210470639\n"
     ]
    }
   ],
   "source": [
    "print(\"D) Score: \", logit_score_d.mean())"
   ]
  },
  {
   "cell_type": "markdown",
   "metadata": {},
   "source": [
    "#### Q2) 1"
   ]
  },
  {
   "cell_type": "code",
   "execution_count": 32,
   "metadata": {},
   "outputs": [
    {
     "name": "stdout",
     "output_type": "stream",
     "text": [
      "Performance of B is better than both A and C, wherein C is marginally better than A. Gaussian projection are really effective when it comes to reducing dimensions with comporatively lesser use of computational power as is the case with A and B, but the tradeoff here is that with lower dimensions we get a more distorted data as compared to higher dimensions, hence the difference in dimensions explains performance difference between A and B. Further, when you compare PCA(used in C) to random projections unlike GRP, we get the most accurate/representative reduction from the original data, hence for similar dimensions PCA outperforms random projections, but the caveat here is its much more computationally intensive and for very high dimensions painfully slow.\n"
     ]
    }
   ],
   "source": [
    "print(\"Performance of B is better than both A and C, wherein C is marginally better than A. Gaussian projection are really effective when it comes to reducing dimensions with comporatively lesser use of computational power as is the case with A and B, but the tradeoff here is that with lower dimensions we get a more distorted data as compared to higher dimensions, hence the difference in dimensions explains performance difference between A and B. Further, when you compare PCA(used in C) to random projections unlike GRP, we get the most accurate/representative reduction from the original data, hence for similar dimensions PCA outperforms random projections, but the caveat here is its much more computationally intensive and for very high dimensions painfully slow.\")\n"
   ]
  },
  {
   "cell_type": "markdown",
   "metadata": {},
   "source": [
    "#### Q2) 2"
   ]
  },
  {
   "cell_type": "code",
   "execution_count": 31,
   "metadata": {},
   "outputs": [
    {
     "name": "stdout",
     "output_type": "stream",
     "text": [
      "PCA tends to get biased around values with high variance, so suppose one variable/feature has a higher variance, pca would move more in that direction affecting the cluster forming process. With normalisation, features even with lesser variances are amplified a bit and that helps in making the clusters more accurate and resemble different features. Hence, C performs better than D in the above scenario.\n"
     ]
    }
   ],
   "source": [
    "print(\"PCA tends to get biased around values with high variance, so suppose one variable/feature has a higher variance, pca would move more in that direction affecting the cluster forming process. With normalisation, features even with lesser variances are amplified a bit and that helps in making the clusters more accurate and resemble different features. Hence, C performs better than D in the above scenario.\")\n"
   ]
  },
  {
   "cell_type": "markdown",
   "metadata": {},
   "source": [
    "#### Q2) 3"
   ]
  },
  {
   "cell_type": "code",
   "execution_count": 16,
   "metadata": {},
   "outputs": [
    {
     "name": "stdout",
     "output_type": "stream",
     "text": [
      "ROC AUC score for dimension:  1\n",
      "0.5612438482607048\n",
      "ROC AUC score for dimension:  2\n",
      "0.557230182504931\n",
      "ROC AUC score for dimension:  3\n",
      "0.556047945122944\n",
      "ROC AUC score for dimension:  4\n",
      "0.5572600903545307\n",
      "ROC AUC score for dimension:  5\n",
      "0.7117973616796768\n",
      "ROC AUC score for dimension:  6\n",
      "0.712939585183903\n",
      "ROC AUC score for dimension:  7\n",
      "0.71074505344206\n",
      "ROC AUC score for dimension:  8\n",
      "0.7286417618491144\n",
      "ROC AUC score for dimension:  9\n",
      "0.704997744932308\n",
      "ROC AUC score for dimension:  10\n",
      "0.7191406972988451\n",
      "ROC AUC score for dimension:  11\n",
      "0.739488092883812\n",
      "ROC AUC score for dimension:  12\n",
      "0.7098393577161843\n",
      "ROC AUC score for dimension:  13\n",
      "0.7249633554615665\n",
      "ROC AUC score for dimension:  14\n",
      "0.7461659165609934\n",
      "ROC AUC score for dimension:  15\n",
      "0.7458396448194788\n",
      "ROC AUC score for dimension:  16\n",
      "0.751153796349208\n",
      "ROC AUC score for dimension:  17\n",
      "0.7561438807486806\n",
      "ROC AUC score for dimension:  18\n",
      "0.7469970783977518\n",
      "ROC AUC score for dimension:  19\n",
      "0.7469827602645088\n",
      "ROC AUC score for dimension:  20\n",
      "0.7598607718941933\n"
     ]
    }
   ],
   "source": [
    "# Plot\n",
    "# KNEE METHOD PLOT\n",
    "logit = LogisticRegression(solver='saga')\n",
    "\n",
    "roc_auc_plot = []\n",
    "\n",
    "std_scaler = getStandardScaler()\n",
    "df_s_train = std_scaler.fit_transform(X_train)\n",
    "\n",
    "for i in range(1, 21):\n",
    "    pcluster = PCA()\n",
    "    pcluster.n_components = i\n",
    "    X_train_pca = pcluster.fit_transform(df_s_train)\n",
    "    logit_score = cross_val_score(logit, X_train_pca, y_train, cv=3, scoring='roc_auc')\n",
    "    roc_auc_plot.append(logit_score.mean())\n",
    "    print(\"ROC AUC score for dimension: \", i)\n",
    "    print(logit_score.mean())\n",
    "\n",
    "dimension = [y for y in range(1, 21)]\n",
    "# print(\"Conclusion:\",)"
   ]
  },
  {
   "cell_type": "code",
   "execution_count": 17,
   "metadata": {},
   "outputs": [
    {
     "name": "stdout",
     "output_type": "stream",
     "text": [
      "Conclusion:\n"
     ]
    },
    {
     "data": {
      "image/png": "[encoded data removed]",
      "text/plain": [
       "<Figure size 432x288 with 1 Axes>"
      ]
     },
     "metadata": {
      "needs_background": "light"
     },
     "output_type": "display_data"
    },
    {
     "name": "stdout",
     "output_type": "stream",
     "text": [
      "From the graph we see the knee point occuring at about 4-6 range, where we see a sudden rise in scores. So 5 is the minimum inherent latent factor/dimension for this task.\n"
     ]
    }
   ],
   "source": [
    "print(\"Conclusion:\")\n",
    "plt.plot(dimension, roc_auc_plot)\n",
    "plt.xlabel(\"Latent factors\")\n",
    "plt.ylabel(\"ROC AUC score value\")\n",
    "plt.show()\n",
    "\n",
    "print('From the graph we see the knee point occuring at about 4-6 range, where we see a sudden rise in scores. So 5 is the minimum inherent latent factor/dimension for this task.')\n"
   ]
  },
  {
   "cell_type": "markdown",
   "metadata": {},
   "source": [
    "## Q3"
   ]
  },
  {
   "cell_type": "code",
   "execution_count": 18,
   "metadata": {},
   "outputs": [
    {
     "name": "stdout",
     "output_type": "stream",
     "text": [
      "Unique target values from is_restaurant column [1. 0.]\n",
      "Total unique target values from is_restaurant column\n",
      " 1.0    107208\n",
      "0.0     34440\n",
      "Name: is_restaurant, dtype: int64\n",
      "\n",
      "Mean cross validation roc_auc score for the tf-idf vector:  0.8990139982695399\n"
     ]
    }
   ],
   "source": [
    "df_business = pd.read_json('./yelp_dataset/yelp_academic_dataset_business.json', lines=True)\n",
    "df_academic = pd.read_json('./yelp_dataset/yelp_academic_dataset_tip.json', lines=True)\n",
    "\n",
    "bus_id = {}\n",
    "\n",
    "# Key value is bussiness_id and value is whether business is restaurant or not.\n",
    "def buildBusinessIdMap():\n",
    "    for idx, val in enumerate(df_FL_business['business_id']):\n",
    "        bus_id[val] = df_FL_business.iloc[idx, 14]\n",
    "        \n",
    "def checkPresence(x):\n",
    "    if x in bus_id:\n",
    "        return int(1) if bus_id[x] == True else int(0)\n",
    "    return None\n",
    "\n",
    "# Filter out FL from all the states, create a mask\n",
    "FL_state_mask = df_business['state'].str.contains('FL', case=False, na=False) \n",
    "# Create a new df with the mask\n",
    "df_FL_business = df_business[FL_state_mask]\n",
    "# For all the businesses in FL create a new 'is_restaurant' to be used later for classification\n",
    "df_FL_business['is_restaurant'] = df_FL_business['categories'].str.contains('restaurant', case=False, na=False)\n",
    "# Remove null values from columns including categories and is_restaurant\n",
    "df_FL_business = df_FL_business.dropna()\n",
    "\n",
    "# Create a map for all businessids in FL and with value if they are a restuarant or not. \n",
    "# {'bussiness_id': 'is_restaurant value' ...}\n",
    "buildBusinessIdMap()\n",
    "\n",
    "# Create a new column for is_restaurant in academic dataset\n",
    "df_academic['is_restaurant'] = df_academic['business_id']\n",
    "\n",
    "# Check if the bussiness_id exists in the map, this ensures its in FL and whether its a restaurant or not.\n",
    "# Basically joining the two tables.\n",
    "df_academic['is_restaurant'] = df_academic['business_id'].apply(checkPresence)\n",
    "\n",
    "# Drop null values (i.e other state data and empty categories etc.)\n",
    "df_academic = df_academic.dropna()\n",
    "\n",
    "# Final academic dataset with businesses in FL with text reviews and is_reestaurant classification column.\n",
    "print(\"Unique target values from is_restaurant column\", df_academic.is_restaurant.unique())\n",
    "print(\"Total unique target values from is_restaurant column\\n\", df_academic.is_restaurant.value_counts())\n",
    "\n",
    "tfidf_vector = TfidfVectorizer()\n",
    "tf_vec = tfidf_vector.fit_transform(df_academic['text'])\n",
    "logit = LogisticRegression(solver='saga')\n",
    "\n",
    "logit_score = cross_val_score(logit, tf_vec, df_academic['is_restaurant'], cv=3, scoring='roc_auc')\n",
    "print('\\nMean cross validation roc_auc score for the tf-idf vector: ', logit_score.mean())"
   ]
  },
  {
   "cell_type": "markdown",
   "metadata": {},
   "source": [
    "## Q4"
   ]
  },
  {
   "cell_type": "markdown",
   "metadata": {},
   "source": [
    "### Q4a"
   ]
  },
  {
   "cell_type": "code",
   "execution_count": 19,
   "metadata": {},
   "outputs": [
    {
     "name": "stdout",
     "output_type": "stream",
     "text": [
      "(611, 193610)\n",
      "(611, 193610)\n"
     ]
    }
   ],
   "source": [
    "# Desktop/DSP 396/HW4/ml-latest-small/ratings.csv\n",
    "\n",
    "df = pd.read_csv('./ml-latest-small/ratings.csv')\n",
    "\n",
    "X = df[['userId', 'movieId']].values\n",
    "y = df['rating'].values\n",
    "\n",
    "def ConvertToDense(m, n, dims):  # from R=(X,y), in sparse format \n",
    "    dim_tup = (dims[0] + 1, dims[1] + 1)\n",
    "    matrix_sparse = scipy.sparse.csr_matrix((n, (m[:,0], m[:,1])), shape = dim_tup)  # sparse matrix in compressed format (CSR)\n",
    "    dense_mat = matrix_sparse.todense()            \n",
    "    dense_mat = np.asarray(dense_mat[1:,1:])             \n",
    "    return dense_mat\n",
    "\n",
    "# n_users = len(df['userId'].unique())\n",
    "# n_items = len(df['movieId'].unique())\n",
    "\n",
    "n = df.movieId.max() + 1\n",
    "d = df.userId.max() + 1\n",
    "\n",
    "R_shape = (d, n)\n",
    "\n",
    "X_train, X_test, y_train, y_test = train_test_split(X, y, test_size=0.2)\n",
    "\n",
    "movie_sparse_matrix_train = ConvertToDense(X_train, y_train, R_shape)\n",
    "movie_sparse_matrix_test = ConvertToDense(X_test, y_test, R_shape)\n",
    "\n",
    "print(movie_sparse_matrix_train.shape)\n",
    "print(movie_sparse_matrix_test.shape)"
   ]
  },
  {
   "cell_type": "code",
   "execution_count": 20,
   "metadata": {},
   "outputs": [
    {
     "name": "stdout",
     "output_type": "stream",
     "text": [
      "(611, 50)\n",
      "(50, 193610)\n",
      "(611, 193610)\n",
      "Predicted rating for user 1 to movie 2:  1.0295452284605304\n"
     ]
    }
   ],
   "source": [
    "# Step 2\n",
    "dims = 50\n",
    "\n",
    "clf = NMF(n_components=dims, max_iter=500)\n",
    "\n",
    "W1 = clf.fit_transform(movie_sparse_matrix_train)\n",
    "H1 = clf.components_\n",
    "\n",
    "print(W1.shape)\n",
    "print(H1.shape)\n",
    "\n",
    "def predictions(P, Q):\n",
    "    return P.dot(Q)\n",
    "\n",
    "pred = predictions(np.asarray(W1), np.asarray(H1))\n",
    "print(pred.shape)\n",
    "\n",
    "print(\"Predicted rating for user 1 to movie 2: \", pred[0][1])"
   ]
  },
  {
   "cell_type": "code",
   "execution_count": 21,
   "metadata": {},
   "outputs": [],
   "source": [
    "# Step 3\n",
    "allMovie1Pred = []\n",
    "\n",
    "for i in range(0, d):\n",
    "    if movie_sparse_matrix_train[i][0] == 0.0: # Only pick users who have not watched movie 1\n",
    "        allMovie1Pred.append((pred[i][0], i, 0))\n",
    "allMovie1Pred.sort(reverse=True)"
   ]
  },
  {
   "cell_type": "code",
   "execution_count": 22,
   "metadata": {},
   "outputs": [
    {
     "name": "stdout",
     "output_type": "stream",
     "text": [
      "Recommended users:\n",
      "Top 3 users most likely to watch movie 1:\n",
      "User: 6\n",
      "User: 84\n",
      "User: 357\n",
      "\n",
      "Their respective hypothetical ratings are: 3.7860948762352953 3.6633262547418424 3.462049326466042\n"
     ]
    },
    {
     "data": {
      "text/plain": [
       "array([[2.15381121e+00, 1.02954523e+00, 3.28013519e-01, ...,\n",
       "        0.00000000e+00, 1.28528616e-04, 0.00000000e+00],\n",
       "       [1.83053965e-01, 1.26181120e-01, 0.00000000e+00, ...,\n",
       "        0.00000000e+00, 5.38377249e-03, 0.00000000e+00],\n",
       "       [7.97080570e-02, 5.01382338e-02, 3.58209262e-02, ...,\n",
       "        0.00000000e+00, 3.73616556e-07, 0.00000000e+00],\n",
       "       ...,\n",
       "       [3.83995224e-01, 4.87602374e-01, 9.02543007e-02, ...,\n",
       "        0.00000000e+00, 2.52466517e-04, 0.00000000e+00],\n",
       "       [5.04463317e+00, 4.23795333e-03, 7.97229429e-04, ...,\n",
       "        0.00000000e+00, 8.48910401e-04, 0.00000000e+00],\n",
       "       [0.00000000e+00, 0.00000000e+00, 0.00000000e+00, ...,\n",
       "        0.00000000e+00, 0.00000000e+00, 0.00000000e+00]])"
      ]
     },
     "execution_count": 22,
     "metadata": {},
     "output_type": "execute_result"
    }
   ],
   "source": [
    "print(\"Recommended users:\",)\n",
    "print('Top 3 users most likely to watch movie 1:')\n",
    "print('User:', allMovie1Pred[0][1]+1)\n",
    "print('User:', allMovie1Pred[1][1]+1)\n",
    "print('User:', allMovie1Pred[2][1]+1)\n",
    "print()\n",
    "print('Their respective hypothetical ratings are:', allMovie1Pred[0][0], allMovie1Pred[1][0], allMovie1Pred[2][0])\n",
    "\n",
    "pred"
   ]
  },
  {
   "cell_type": "markdown",
   "metadata": {},
   "source": [
    "### Q4b"
   ]
  },
  {
   "cell_type": "code",
   "execution_count": 23,
   "metadata": {},
   "outputs": [],
   "source": [
    "# Compute RMSE\n",
    "\n",
    "# print(movie_sparse_matrix_train.shape)\n",
    "# print(movie_sparse_matrix_test.shape)\n",
    "\n",
    "def get_rmse(pred, actual):\n",
    "    pred = pred[actual.nonzero()].flatten()\n",
    "    actual = actual[actual.nonzero()].flatten()\n",
    "    return np.sqrt(mean_squared_error(pred, actual))\n",
    "\n",
    "pred[pred > 5] = 5\n",
    "pred[pred < 0] = 0"
   ]
  },
  {
   "cell_type": "code",
   "execution_count": 24,
   "metadata": {},
   "outputs": [
    {
     "name": "stdout",
     "output_type": "stream",
     "text": [
      "RMSE on training: 2.2771997730498215\n",
      "RMSE on testing: 3.19048016714383\n"
     ]
    }
   ],
   "source": [
    "print(\"RMSE on training:\", get_rmse(pred, movie_sparse_matrix_train))\n",
    "print(\"RMSE on testing:\", get_rmse(pred, movie_sparse_matrix_test))"
   ]
  },
  {
   "cell_type": "code",
   "execution_count": 26,
   "metadata": {},
   "outputs": [
    {
     "name": "stdout",
     "output_type": "stream",
     "text": [
      "Number of latent factors:  1\n",
      "Training error  3.1138570942170767\n",
      "Testing error  3.149919268932568\n",
      "\n",
      "Number of latent factors:  2\n",
      "Training error  3.018737091817685\n",
      "Testing error  3.0724122363869384\n",
      "\n",
      "Number of latent factors:  3\n",
      "Training error  2.95415223573195\n",
      "Testing error  3.021503627360626\n",
      "\n",
      "Number of latent factors:  4\n",
      "Training error  2.915174891831902\n",
      "Testing error  3.0127102450907053\n",
      "\n",
      "Number of latent factors:  5\n",
      "Training error  2.8857243714128593\n",
      "Testing error  3.018084012237402\n",
      "\n",
      "Number of latent factors:  6\n",
      "Training error  2.8519516617081613\n",
      "Testing error  3.007734371892277\n",
      "\n",
      "Number of latent factors:  7\n",
      "Training error  2.817100598275851\n",
      "Testing error  2.9927498820567786\n",
      "\n",
      "Number of latent factors:  8\n",
      "Training error  2.794291493783025\n",
      "Testing error  2.9976716701557837\n",
      "\n",
      "Number of latent factors:  9\n",
      "Training error  2.7665775889621145\n",
      "Testing error  2.9911326851587825\n",
      "\n",
      "Number of latent factors:  10\n",
      "Training error  2.747743126977692\n",
      "Testing error  2.997018276803743\n",
      "\n",
      "Number of latent factors:  11\n",
      "Training error  2.730866552563657\n",
      "Testing error  3.006386954024918\n",
      "\n",
      "Number of latent factors:  12\n",
      "Training error  2.7167598081961812\n",
      "Testing error  3.022052697079826\n",
      "\n",
      "Number of latent factors:  13\n",
      "Training error  2.700894174717768\n",
      "Testing error  3.0293423841088227\n",
      "\n",
      "Number of latent factors:  14\n",
      "Training error  2.6847928999165283\n",
      "Testing error  3.0346242552585805\n",
      "\n",
      "Number of latent factors:  15\n",
      "Training error  2.6751856149655997\n",
      "Testing error  3.052887537654639\n",
      "\n",
      "Number of latent factors:  16\n",
      "Training error  2.6499521147749716\n",
      "Testing error  3.0470768482871917\n",
      "\n",
      "Number of latent factors:  17\n",
      "Training error  2.6339252354304743\n",
      "Testing error  3.052398984689149\n",
      "\n",
      "Number of latent factors:  18\n",
      "Training error  2.6209359678447237\n",
      "Testing error  3.058934327380556\n",
      "\n",
      "Number of latent factors:  19\n",
      "Training error  2.60575705330181\n",
      "Testing error  3.064202436432492\n",
      "\n",
      "Number of latent factors:  20\n",
      "Training error  2.594925767335894\n",
      "Testing error  3.0772313057542378\n",
      "\n"
     ]
    }
   ],
   "source": [
    "#plot\n",
    "train_error_plot = []\n",
    "test_error_plot = []\n",
    "for dim in range(1, 21):\n",
    "    clf = NMF(n_components=dim, max_iter=500, init='nndsvda')\n",
    "\n",
    "    W1 = clf.fit_transform(movie_sparse_matrix_train)\n",
    "    H1 = clf.components_\n",
    "    \n",
    "    print('Number of latent factors: ', W1.shape[1])\n",
    "\n",
    "    pred = predictions(np.asarray(W1), np.asarray(H1))\n",
    "    train_error = get_rmse(pred, movie_sparse_matrix_train)\n",
    "    test_error = get_rmse(pred, movie_sparse_matrix_test)\n",
    "    print('Training error ', train_error)\n",
    "    print('Testing error ', test_error)\n",
    "    print()\n",
    "    train_error_plot.append(train_error)\n",
    "    test_error_plot.append(test_error)\n"
   ]
  },
  {
   "cell_type": "code",
   "execution_count": 35,
   "metadata": {},
   "outputs": [
    {
     "data": {
      "image/png": "[encoded data removed]",
      "text/plain": [
       "<Figure size 432x288 with 1 Axes>"
      ]
     },
     "metadata": {
      "needs_background": "light"
     },
     "output_type": "display_data"
    },
    {
     "name": "stdout",
     "output_type": "stream",
     "text": [
      "Conclusion:\n",
      "There is a sharp decrease in the testing error rate from 1-3 range but we see a valley forming around 6-10 range, since calculating factors here isnt too expensive, Id pick any value between 7 to 9, ideally 9. The values in the range form a local minima, any value above 20 seems like diminishing returns, so my choice would be 9. Our training error decreases but our testing error rate plateaus so I consider test error as the main criteria.\n"
     ]
    }
   ],
   "source": [
    "dimension = [y for y in range(1, 21)]\n",
    "\n",
    "plt.plot(dimension, train_error_plot, label=\"training_error\")\n",
    "plt.plot(dimension, test_error_plot, label=\"testing_error\")\n",
    "plt.legend()\n",
    "plt.xlabel(\"Latent factors\")\n",
    "plt.ylabel(\"Mean square error value\")\n",
    "plt.show()\n",
    "\n",
    "print(\"Conclusion:\")\n",
    "print('There is a sharp decrease in the testing error rate from 1-3 range but we see a valley forming around 6-10 range, since calculating factors here isnt too expensive, Id pick any value between 7 to 9, ideally 9. The values in the range form a local minima, any value above 20 seems like diminishing returns, so my choice would be 9. Our training error decreases but our testing error rate plateaus so I consider test error as the main criteria.')\n",
    "      "
   ]
  },
  {
   "cell_type": "markdown",
   "metadata": {},
   "source": [
    "### Q4c"
   ]
  },
  {
   "cell_type": "code",
   "execution_count": 30,
   "metadata": {},
   "outputs": [
    {
     "name": "stdout",
     "output_type": "stream",
     "text": [
      "Suggestions: \n",
      "\n",
      "There are multiple directions we could explore here but two of my prefered ways would be:\n",
      "\n",
      "1) Grid search: With grid search we can try multiple different latent factors and combinations of other arguments provided by NMF library implementation(eg. solver, solver etc.) to get the best values of latent factors.\n",
      "2) Normalisation of data: With reduced variance in data our data wouldnt be biased in towards certain ratings and our predictions would be more accurate. Our NMF would benifit performance wise from this as well.\n"
     ]
    }
   ],
   "source": [
    "print(\"Suggestions: \\n\")\n",
    "print('There are multiple directions we could explore here but two of my prefered ways would be:\\n')\n",
    "print('1) Grid search: With grid search we can try multiple different latent factors and combinations of other arguments provided by NMF library implementation(eg. solver, solver etc.) to get the best values of latent factors.')\n",
    "print('2) Normalisation of data: With reduced variance in data our data wouldnt be biased in towards certain ratings and our predictions would be more accurate. Our NMF would benifit performance wise from this as well.')\n"
   ]
  }
 ],
 "metadata": {
  "kernelspec": {
   "display_name": "Python 3 (ipykernel)",
   "language": "python",
   "name": "python3"
  },
  "language_info": {
   "codemirror_mode": {
    "name": "ipython",
    "version": 3
   },
   "file_extension": ".py",
   "mimetype": "text/x-python",
   "name": "python",
   "nbconvert_exporter": "python",
   "pygments_lexer": "ipython3",
   "version": "3.9.12"
  }
 },
 "nbformat": 4,
 "nbformat_minor": 4
}
